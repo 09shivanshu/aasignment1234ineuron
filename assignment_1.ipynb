{
 "cells": [
  {
   "cell_type": "markdown",
   "id": "c396dd35",
   "metadata": {},
   "source": [
    "# Assignment_1"
   ]
  },
  {
   "cell_type": "markdown",
   "id": "80cd2093",
   "metadata": {},
   "source": [
    "#### 1. In the below elements which of them are values or an expression? eg:- values can be integer or string and expressions will be mathematical operators.\n",
    "*\n",
    "&#39;hello&#39;\n",
    "-87.8\n",
    "-\n",
    "/\n",
    "+\n",
    "6"
   ]
  },
  {
   "cell_type": "markdown",
   "id": "0d0bbb15",
   "metadata": {},
   "source": [
    "    values     :- 'hello' ,  87.8 ,  6 \n",
    "    expression :- * , - , / , +"
   ]
  },
  {
   "cell_type": "markdown",
   "id": "44d63461",
   "metadata": {},
   "source": [
    "#### 2. What is the difference between string and variable?"
   ]
  },
  {
   "cell_type": "markdown",
   "id": "b66a0946",
   "metadata": {},
   "source": [
    "    A Variable is a store of information, and a String is a type of information you would store in a Variable."
   ]
  },
  {
   "cell_type": "markdown",
   "id": "296cc027",
   "metadata": {},
   "source": [
    "#### 3. Describe three different data types."
   ]
  },
  {
   "cell_type": "markdown",
   "id": "ba6ea4e0",
   "metadata": {},
   "source": [
    "    There are 3 type data type \n",
    "    * int\n",
    "    * float\n",
    "    * complex\n",
    "    int data type: We can use int data type to represent whole numbers (integral values)\n",
    "    \n",
    "    float data type: We can use float data type to represent floating point values (decimal values)\n",
    "    \n",
    "    complex data type: Complex number is represented by complex class. It is specified as \n",
    "    1. real part\n",
    "    2. imaginary part as j."
   ]
  },
  {
   "cell_type": "markdown",
   "id": "933757b3",
   "metadata": {},
   "source": [
    "#### 4. What is an expression made up of? What do all expressions do?"
   ]
  },
  {
   "cell_type": "markdown",
   "id": "4fb3b433",
   "metadata": {},
   "source": [
    "    An expression is a construct made up of variables, operators, and values, which are constructed according to the syntax of the language, that evaluates to a single value."
   ]
  },
  {
   "cell_type": "markdown",
   "id": "b4020e6e",
   "metadata": {},
   "source": [
    "    For example:-\n",
    "             23+21*9/4\n",
    "             -70.25\n"
   ]
  },
  {
   "cell_type": "markdown",
   "id": "be115dcb",
   "metadata": {},
   "source": [
    "####    5.This assignment statements, like spam = 10. What is the difference between an expression and a statement?"
   ]
  },
  {
   "cell_type": "markdown",
   "id": "c36819f9",
   "metadata": {},
   "source": [
    "    An expression is a combination of values, variables, and operators.When we type an expression at the prompt, the interpreter evaluates it, which means that it finds the value of the expression.\n",
    "    \n",
    "    A statement is a unit of code that has an effect, like creating a variable or displaying a value.When we type a statement, the interpreter executes it, which means that it does whatever the statement says. In general, statements don’t have values.\n",
    "    "
   ]
  },
  {
   "cell_type": "markdown",
   "id": "37b8cec3",
   "metadata": {},
   "source": [
    "    ex. \n",
    "        23+21*9/4 -: is a expression\n",
    "        a= \"this is a string\" -: statment\n",
    "        "
   ]
  },
  {
   "cell_type": "markdown",
   "id": "af08b959",
   "metadata": {},
   "source": [
    "#### 6. After running the following code, what does the variable bacon contain?\n",
    "bacon = 22\n",
    "\n",
    "bacon + 1"
   ]
  },
  {
   "cell_type": "markdown",
   "id": "c26d6795",
   "metadata": {},
   "source": [
    "    In first line, bacon is a variable and 22 is value stored in it and in second line, bacon which contains the value 22 and  + 1 = 23"
   ]
  },
  {
   "cell_type": "markdown",
   "id": "924e43c6",
   "metadata": {},
   "source": [
    "#### 7. What should the values of the following two terms be?\n",
    "&#39;spam&#39; + &#39;spamspam&#39;\n",
    "\n",
    "&#39;spam&#39; * 3"
   ]
  },
  {
   "cell_type": "markdown",
   "id": "ee2c53a5",
   "metadata": {},
   "source": [
    "    both two terms value will come 'spamspamspam'"
   ]
  },
  {
   "cell_type": "code",
   "execution_count": 19,
   "id": "10963085",
   "metadata": {},
   "outputs": [
    {
     "name": "stdout",
     "output_type": "stream",
     "text": [
      "spamspamspam\n",
      "spamspamspam\n"
     ]
    }
   ],
   "source": [
    "print ('spam' + 'spamspam')\n",
    "\n",
    "print ('spam' * 3)"
   ]
  },
  {
   "cell_type": "markdown",
   "id": "30f9eb66",
   "metadata": {},
   "source": [
    "#### 8. Why is eggs a valid variable name while 100 is invalid?"
   ]
  },
  {
   "cell_type": "markdown",
   "id": "715e1d91",
   "metadata": {},
   "source": [
    "    As per Python rules,\n",
    "    1. Variable name must start with a letter or the underscore character.\n",
    "    2.Variable name cannot start with a number.\n",
    "    3.Variable name can only contain alpha-numeric characters and underscores (A-z, 0-9, & _ ).\n",
    "    4.Variable names are case-sensitive (name, INEURON and ineuron are three different variables).\n",
    "    5.The reserved words(keywords) cannot be used naming the variable."
   ]
  },
  {
   "cell_type": "markdown",
   "id": "12f18e9c",
   "metadata": {},
   "source": [
    "#### 9. What three functions can be used to get the integer, floating-point number, or string version of a value?"
   ]
  },
  {
   "cell_type": "markdown",
   "id": "605be2d6",
   "metadata": {},
   "source": [
    "    The three function are-:\n",
    "            int()\n",
    "            float()\n",
    "            str()"
   ]
  },
  {
   "cell_type": "code",
   "execution_count": 22,
   "id": "ad2164b3",
   "metadata": {},
   "outputs": [
    {
     "name": "stdout",
     "output_type": "stream",
     "text": [
      "10\n",
      "12.0\n",
      "Shivanshu123\n"
     ]
    }
   ],
   "source": [
    "#ex. \n",
    "print (int(10.0))\n",
    "print (float(12))\n",
    "print (str(\"Shivanshu123\"))"
   ]
  },
  {
   "cell_type": "markdown",
   "id": "6170bf72",
   "metadata": {},
   "source": [
    "#### 10. Why does this expression cause an error? How can you fix it?\n",
    "&#39;I have eaten &#39; + 99 + &#39; burritos.&#39;"
   ]
  },
  {
   "cell_type": "markdown",
   "id": "4d99cf09",
   "metadata": {},
   "source": [
    "    'I have eaten ' + 99 + ' burritos.'\n",
    "\n",
    "---------------------------------------------------------------------------\n",
    "TypeError                                 Traceback (most recent call last)\n",
    "C:\\Users\\$HREEN~1\\AppData\\Local\\Temp/ipykernel_6460/1774935878.py in <module>\n",
    "----> 1 'I have eaten ' + 99 + ' burritos.'\n",
    "\n",
    "TypeError: can only concatenate str (not \"int\") to str"
   ]
  },
  {
   "cell_type": "markdown",
   "id": "fd6e0807",
   "metadata": {},
   "source": [
    "    typeerror in which we cannot concat int and str to solve it we convert 99 in string"
   ]
  },
  {
   "cell_type": "code",
   "execution_count": 24,
   "id": "f84dc1a7",
   "metadata": {},
   "outputs": [
    {
     "data": {
      "text/plain": [
       "'I have eaten 99 burritos.'"
      ]
     },
     "execution_count": 24,
     "metadata": {},
     "output_type": "execute_result"
    }
   ],
   "source": [
    "'I have eaten ' + str(99) + ' burritos.'"
   ]
  },
  {
   "cell_type": "code",
   "execution_count": null,
   "id": "f80efbf6",
   "metadata": {},
   "outputs": [],
   "source": []
  }
 ],
 "metadata": {
  "kernelspec": {
   "display_name": "Python 3 (ipykernel)",
   "language": "python",
   "name": "python3"
  },
  "language_info": {
   "codemirror_mode": {
    "name": "ipython",
    "version": 3
   },
   "file_extension": ".py",
   "mimetype": "text/x-python",
   "name": "python",
   "nbconvert_exporter": "python",
   "pygments_lexer": "ipython3",
   "version": "3.9.7"
  }
 },
 "nbformat": 4,
 "nbformat_minor": 5
}
